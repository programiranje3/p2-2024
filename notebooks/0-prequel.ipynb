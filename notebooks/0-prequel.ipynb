{
 "cells": [
  {
   "cell_type": "markdown",
   "id": "f9250bc2-002e-45f9-8109-9667265e240e",
   "metadata": {
    "pycharm": {
     "name": "#%% md\n"
    }
   },
   "source": [
    "# Mick Jagger and Keith Richards"
   ]
  },
  {
   "cell_type": "markdown",
   "id": "46ea00e0-1c4e-4a47-a0df-2e48f7e1a8c5",
   "metadata": {
    "pycharm": {
     "name": "#%% md\n"
    }
   },
   "source": [
    "Or, colloquially - <b>The Glimmer Twins</b> :)"
   ]
  },
  {
   "cell_type": "markdown",
   "id": "edf50319-ed9a-4939-b933-86f36fde3ce6",
   "metadata": {
    "pycharm": {
     "name": "#%% md\n"
    }
   },
   "source": [
    "![Mick and Keith](http://www.funcage.com/blog/wp-content/uploads/2013/12/Mick-Jagger-and-Keith-Richards.jpg)"
   ]
  },
  {
   "cell_type": "markdown",
   "id": "20c0fb44-93cb-4c89-aa80-4592fd380e14",
   "metadata": {
    "pycharm": {
     "name": "#%% md\n"
    }
   },
   "source": [
    ">#### At 80 years old, and STILL performing to live audiences after doing this for 60 years… that's 6 decades… "
   ]
  },
  {
   "cell_type": "markdown",
   "source": [
    ">#### Everybody’s got a different way of telling a story – and has different stories to tell.\n",
    "<i>Keith Richards</i>"
   ],
   "metadata": {
    "collapsed": false
   },
   "id": "908aaa106dc548a"
  },
  {
   "cell_type": "markdown",
   "id": "e9ac0072-1234-48d8-b672-d59ce0971d42",
   "metadata": {
    "pycharm": {
     "name": "#%% md\n"
    }
   },
   "source": [
    "![Mick and Keith](https://guitar.com/wp-content/uploads/2023/01/mick-jagger-kieth-richards-wembley-1973@2000x1500.jpg)"
   ]
  },
  {
   "cell_type": "markdown",
   "id": "d0953ca7-c003-4a7b-93ba-8056041e97f0",
   "metadata": {
    "pycharm": {
     "name": "#%% md\n"
    }
   },
   "source": [
    "[Official Website](https://rollingstones.com/)<br>\n",
    "The latest single, [Sweet Sounds Of Heaven](https://www.youtube.com/watch?v=JnKG00M87e0)"
   ]
  }
 ],
 "metadata": {
  "kernelspec": {
   "display_name": "Python 3 (ipykernel)",
   "language": "python",
   "name": "python3"
  },
  "language_info": {
   "codemirror_mode": {
    "name": "ipython",
    "version": 3
   },
   "file_extension": ".py",
   "mimetype": "text/x-python",
   "name": "python",
   "nbconvert_exporter": "python",
   "pygments_lexer": "ipython3",
   "version": "3.10.0"
  }
 },
 "nbformat": 4,
 "nbformat_minor": 5
}
